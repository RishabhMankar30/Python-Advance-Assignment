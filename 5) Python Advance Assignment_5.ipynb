{
 "cells": [
  {
   "cell_type": "markdown",
   "id": "6b352778",
   "metadata": {},
   "source": [
    "# Q1. What is the meaning of multiple inheritance"
   ]
  },
  {
   "cell_type": "markdown",
   "id": "ff9d9e96",
   "metadata": {},
   "source": [
    "- Inheritance is a python OOPS concept, where the all the methods and properties of parent class can be inherited in child class.\n",
    "- there are two types of inheritances 1) single inheritance 2)multiple inheritance\n",
    "-  in  single inheritance, child class inherit the methods and properties of only one parent class.\n",
    "-  In multiple inheritance, one child class can inherit the methods and properties from two and more classes(parent classes)\n"
   ]
  },
  {
   "cell_type": "code",
   "execution_count": 7,
   "id": "f913c77d",
   "metadata": {},
   "outputs": [
    {
     "name": "stdout",
     "output_type": "stream",
     "text": [
      "Employee Name: Khush\n",
      "Salary: 10000\n",
      "Designation: data scientist\n"
     ]
    }
   ],
   "source": [
    "#eg\n",
    "\n",
    "class Employees(): \n",
    " \n",
    " def Name(self): \n",
    "        print (\"Employee Name: Khush\")\n",
    " \n",
    "class salary():\n",
    "    def Salary(self):\n",
    "        print (\"Salary: 10000\")\n",
    " \n",
    "class Designation(Employees, salary):\n",
    "    def desig(self):\n",
    "       print (\"Designation: data scientist\")\n",
    " \n",
    "d = Designation()\n",
    "d.Name()\n",
    "d.Salary()\n",
    "d.desig()\n",
    "    "
   ]
  },
  {
   "cell_type": "markdown",
   "id": "2e1c4bad",
   "metadata": {},
   "source": [
    "# Q2. What is the concept of delegation?"
   ]
  },
  {
   "cell_type": "markdown",
   "id": "69a37307",
   "metadata": {},
   "source": [
    "Delegation is an object oriented technique (also called a design pattern). Let's say you have an class x and want to change the behavior of just one of its methods. You can create a new class that provides a new implementation of the method you're interested in changing and delegates all other methods to the corresponding method of x."
   ]
  },
  {
   "cell_type": "markdown",
   "id": "caeabd99",
   "metadata": {},
   "source": [
    "# Q3. What is the concept of composition?"
   ]
  },
  {
   "cell_type": "markdown",
   "id": "918adcd4",
   "metadata": {},
   "source": [
    "- Composition is a python OOP's concept it means ,a class Composite can contain an object of another class Component.\n",
    "- Horse class can be composed by another object of type Tail. Composition allows you to express that relationship by saying a Horse has a Tail.\n",
    "- Composition enables you to reuse code by adding objects to other objects\n"
   ]
  },
  {
   "cell_type": "markdown",
   "id": "5cf4d03a",
   "metadata": {},
   "source": [
    "# Q4. What are bound methods and how do we use them?"
   ]
  },
  {
   "cell_type": "markdown",
   "id": "714bd47f",
   "metadata": {},
   "source": [
    "- A bound method is a OOP concept in the python, \n",
    "- A bound method is a method(class function) which depends on the class as the first argument.\n",
    "- in Python 3 and newer versions of python, all functions in the class are by default bound methods."
   ]
  },
  {
   "cell_type": "code",
   "execution_count": 19,
   "id": "d0455c0a",
   "metadata": {},
   "outputs": [
    {
     "name": "stdout",
     "output_type": "stream",
     "text": [
      "The car colour is RED\n",
      "None\n"
     ]
    }
   ],
   "source": [
    "#eg\n",
    "class car:\n",
    "    def __init__(self, paint):\n",
    "        self.paint=paint\n",
    "    def car_colour(self):\n",
    "        print(\"The car colour is {}\".format(self.paint))\n",
    "    \n",
    "#creating instance of class:\n",
    "o=car(\"RED\")\n",
    "print(o.car_colour())"
   ]
  },
  {
   "cell_type": "markdown",
   "id": "84fb3255",
   "metadata": {},
   "source": [
    "# Q5. What is the purpose of pseudo-private attributes?"
   ]
  },
  {
   "cell_type": "markdown",
   "id": "e9907f11",
   "metadata": {},
   "source": [
    "Q5. What is the purpose of pseudo-private attributes?\n",
    "-in python method and variables can be restricted to use outside of the, This can be done by converting method and variables to private.\n",
    "- This can be achieved by putting double underscore(__) before any variables and methods\n",
    "- Now this variables and methods won't be accessible outside of that perticular class. This is known as  pseudo-private attributes.\n",
    "- In order to access this outside of the class we need to follow one protocall\n",
    "-  _classname__variable/_function.\n",
    "-  The main purpose of  pseudo-private attributes is that no one should be able to accsess the variable or methods outside of the class and  No one should not be able to change its meaning."
   ]
  },
  {
   "cell_type": "code",
   "execution_count": 25,
   "id": "be09cd56",
   "metadata": {},
   "outputs": [
    {
     "name": "stdout",
     "output_type": "stream",
     "text": [
      "The name of employee is: rishabh\n",
      "None\n",
      "gmail.com\n",
      "150000\n"
     ]
    }
   ],
   "source": [
    "class ineuron:\n",
    "    def __init__(self,name,email,salary):\n",
    "        self.__name=name\n",
    "        self.__email=email\n",
    "        self.__salary=salary\n",
    "    def name(self):\n",
    "        print(\"The name of employee is: {}\".format(self.__name))\n",
    "        \n",
    "o=ineuron(\"rishabh\",\"gmail.com\",150000)\n",
    "print(o.name())\n",
    "print(o._ineuron__email)\n",
    "print(o._ineuron__salary)"
   ]
  },
  {
   "cell_type": "code",
   "execution_count": null,
   "id": "538c6404",
   "metadata": {},
   "outputs": [],
   "source": []
  }
 ],
 "metadata": {
  "kernelspec": {
   "display_name": "Python 3 (ipykernel)",
   "language": "python",
   "name": "python3"
  },
  "language_info": {
   "codemirror_mode": {
    "name": "ipython",
    "version": 3
   },
   "file_extension": ".py",
   "mimetype": "text/x-python",
   "name": "python",
   "nbconvert_exporter": "python",
   "pygments_lexer": "ipython3",
   "version": "3.9.7"
  }
 },
 "nbformat": 4,
 "nbformat_minor": 5
}
