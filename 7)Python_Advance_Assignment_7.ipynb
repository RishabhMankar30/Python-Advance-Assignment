{
  "nbformat": 4,
  "nbformat_minor": 0,
  "metadata": {
    "colab": {
      "provenance": []
    },
    "kernelspec": {
      "name": "python3",
      "display_name": "Python 3"
    },
    "language_info": {
      "name": "python"
    }
  },
  "cells": [
    {
      "cell_type": "markdown",
      "source": [
        "**Q1. What is the purpose of the try statement?**\n",
        "\n",
        "Solution:\n",
        "\n",
        "\n",
        "- In try statement, we provide the code which  is to be executed without being interrupting the next line of code in the program\n",
        "- The try statement provides the catch for the except statement and ececute the clean code for the perticular block of code.\n"
      ],
      "metadata": {
        "id": "mIm49bLHHt23"
      }
    },
    {
      "cell_type": "markdown",
      "source": [
        "**Q2. What are the two most popular try statement variations?|**\n",
        "\n",
        "Solution:\n",
        "\n",
        "- Try/Except/Else\n",
        "- Try/Except/Finally"
      ],
      "metadata": {
        "id": "ZboJ4gXJHt5N"
      }
    },
    {
      "cell_type": "markdown",
      "source": [
        "**Q3. What is the purpose of the raise statement?**\n",
        "\n",
        "Solution:\n",
        "\n",
        "\n",
        "- raise statement stops the normal execution of the program and raise the error of exception in the code. \n",
        "-  By using raise statement we can also use our customize  exception.\n"
      ],
      "metadata": {
        "id": "B60070bGHt8B"
      }
    },
    {
      "cell_type": "markdown",
      "source": [
        "**Q4. What does the assert statement do, and what other statement is it like?**\n",
        "\n",
        "Solution:\n",
        "\n",
        "\n",
        "- assert statement check the condition, if condition is true, the program will keep running  else program will stops and return an AssertionError.\n"
      ],
      "metadata": {
        "id": "9rIdN9kzHt-_"
      }
    },
    {
      "cell_type": "markdown",
      "source": [
        "**Q5. What is the purpose of the with/as an argument, and what other statement is it like?**\n",
        "\n",
        "Solution:\n",
        "\n",
        " - with statement is used in exception handling to make the code cleaner and much more readable. It simplifies the management of common resources like file streams.\n",
        "  "
      ],
      "metadata": {
        "id": "3GHhcYq0HuBw"
      }
    }
  ]
}