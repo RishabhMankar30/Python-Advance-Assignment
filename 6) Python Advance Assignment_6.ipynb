{
 "cells": [
  {
   "cell_type": "markdown",
   "id": "b82144cf",
   "metadata": {},
   "source": [
    "# Q1. Describe three applications for exception processing. "
   ]
  },
  {
   "cell_type": "markdown",
   "id": "20963fd0",
   "metadata": {},
   "source": [
    "- exception is use to handles the different error in the code\n",
    "-  it also ensures the normal operation  of the code will take place without code being crashed.\n",
    "- Exception also allow us to write custom error, which will print when error occurs insted of printing the error message"
   ]
  },
  {
   "cell_type": "markdown",
   "id": "b0abf089",
   "metadata": {},
   "source": [
    "# Q2. What happens if you don't do something extra to treat an exception?"
   ]
  },
  {
   "cell_type": "markdown",
   "id": "09a12172",
   "metadata": {},
   "source": [
    "If we don't do something extra to treat an exception in python, then if there would be error in code, then exception will print the python own error messages like value error, syntax error, etc based on the mistake happen in  code."
   ]
  },
  {
   "cell_type": "markdown",
   "id": "c69ab94c",
   "metadata": {},
   "source": [
    "# Q3. What are your options for recovering from an exception in your script?"
   ]
  },
  {
   "cell_type": "markdown",
   "id": "3f0b0810",
   "metadata": {},
   "source": [
    "- The try-catch is the simplest method of handling exceptions.\n",
    "- or we through the exception back to the caller."
   ]
  },
  {
   "cell_type": "markdown",
   "id": "1dbbd384",
   "metadata": {},
   "source": [
    "# Q4. Describe two methods for triggering exceptions in your script.\n"
   ]
  },
  {
   "cell_type": "markdown",
   "id": "4ce17ee0",
   "metadata": {},
   "source": [
    "- we can use try and except block\n",
    "- we can use raise keyword to print exception in code wherever we want."
   ]
  },
  {
   "cell_type": "markdown",
   "id": "ace9c95d",
   "metadata": {},
   "source": [
    "# Q5. Identify two methods for specifying actions to be executed at termination time, regardless of whether or not an exception exists."
   ]
  },
  {
   "cell_type": "markdown",
   "id": "cd05ff2c",
   "metadata": {},
   "source": [
    "1)  import time\n",
    "\n",
    "    time.time()\n",
    "    \n",
    "2) from time import datetime\n",
    "\n",
    "   datetime.now()"
   ]
  },
  {
   "cell_type": "code",
   "execution_count": null,
   "id": "ec53fdb0",
   "metadata": {},
   "outputs": [],
   "source": []
  }
 ],
 "metadata": {
  "kernelspec": {
   "display_name": "Python 3 (ipykernel)",
   "language": "python",
   "name": "python3"
  },
  "language_info": {
   "codemirror_mode": {
    "name": "ipython",
    "version": 3
   },
   "file_extension": ".py",
   "mimetype": "text/x-python",
   "name": "python",
   "nbconvert_exporter": "python",
   "pygments_lexer": "ipython3",
   "version": "3.9.7"
  }
 },
 "nbformat": 4,
 "nbformat_minor": 5
}
