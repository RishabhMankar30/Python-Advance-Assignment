{
  "nbformat": 4,
  "nbformat_minor": 0,
  "metadata": {
    "colab": {
      "provenance": []
    },
    "kernelspec": {
      "name": "python3",
      "display_name": "Python 3"
    },
    "language_info": {
      "name": "python"
    }
  },
  "cells": [
    {
      "cell_type": "markdown",
      "source": [
        "**1) What are the two latest user-defined exception constraints in Python 3.X?**\n",
        "\n",
        "Solution-\n",
        "\n",
        "- ArithmeticError, AttributeError\n"
      ],
      "metadata": {
        "id": "Ddko7z_Xo54z"
      }
    },
    {
      "cell_type": "markdown",
      "source": [
        "**Q2. How are class-based exceptions that have been raised matched to handlers?**\n",
        "\n",
        "Solution:\n",
        "\n",
        "-  Python handles exception using try , except block. As you can see in try block you need to write code that might throw an exception. When exception occurs code in the try block is skipped. If there exist a matching exception type inthe  `except clause then it's handler is executed."
      ],
      "metadata": {
        "id": "SlvD6t0Ro57l"
      }
    },
    {
      "cell_type": "markdown",
      "source": [
        "**Q3. Describe two methods for attaching context information to exception artifacts.**\n",
        "\n",
        "Solution:\n",
        "\n",
        "- ex.args = (msg) \n",
        "-  raise "
      ],
      "metadata": {
        "id": "5uyPGhoro5-6"
      }
    },
    {
      "cell_type": "markdown",
      "source": [
        "**Q4. Describe two methods for specifying the text of an exception object's error message.**\n",
        "\n",
        "Solution:\n",
        "\n",
        "- getattr(e, 'message', e)\n",
        " \n",
        "- print()"
      ],
      "metadata": {
        "id": "5lA9aw0vo6Bf"
      }
    },
    {
      "cell_type": "markdown",
      "source": [
        "**Q5. Why do you no longer use string-based exceptions?**\n",
        "\n",
        "Solution:\n",
        "\n",
        "- This is because a string is a sequence; we must assume that error messages are always more than two characters long.\n",
        "\n"
      ],
      "metadata": {
        "id": "oYF40DUso6Dg"
      }
    }
  ]
}