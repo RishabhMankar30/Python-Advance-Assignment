{
 "cells": [
  {
   "cell_type": "markdown",
   "id": "a2058bb6",
   "metadata": {},
   "source": [
    "# Q1. What is the purpose of Python's OOP?"
   ]
  },
  {
   "cell_type": "markdown",
   "id": "17bc2d5d",
   "metadata": {},
   "source": [
    "Purpose of OOPS in the python is that\n",
    "- It modernize and well  structured  your code.\n",
    "- OOPs helps to structuring the programe so the propertise and behaviour are bundle into objects.\n",
    "-  It helps to create modules and packages which can use further without writting that same code again.\n",
    "- oops is the approach to modelling the real world things like cars, relationship between company and employee, students and teachers.\n"
   ]
  },
  {
   "cell_type": "markdown",
   "id": "a9725dac",
   "metadata": {},
   "source": [
    "# Q2. Where does an inheritance search look for an attribute?"
   ]
  },
  {
   "cell_type": "markdown",
   "id": "360cd4dd",
   "metadata": {},
   "source": [
    "Inheritance always  look at parent class for an attribute.\n",
    "\n",
    "attribute is accessed by dot(.) method followed by class name\n",
    "\n",
    "employee.print_name()"
   ]
  },
  {
   "cell_type": "markdown",
   "id": "8c50d458",
   "metadata": {},
   "source": [
    "# Q3. How do you distinguish between a class object and an instance object?"
   ]
  },
  {
   "cell_type": "markdown",
   "id": "30ca166d",
   "metadata": {},
   "source": [
    "Instance object: Instance object is the individual object of the certain class. for example An object \"obj' belongs to class triangle, is the instance object of the class triangle.\n",
    "\n",
    "Class object: Class object is the unique instance that is define by the class which comprises both class variables and methods.\n"
   ]
  },
  {
   "cell_type": "markdown",
   "id": "b3f04b91",
   "metadata": {},
   "source": [
    "# Q4. What makes the first argument in a class’s method function special?"
   ]
  },
  {
   "cell_type": "markdown",
   "id": "63eb0b0c",
   "metadata": {},
   "source": [
    "- The \"self\" argument is the first argument in the class method, this makes class method special than normal function.\n",
    "\n",
    "- the argument in the class define by __init__ mathod.\n"
   ]
  },
  {
   "cell_type": "markdown",
   "id": "2516a64a",
   "metadata": {},
   "source": [
    "# Q5. What is the purpose of the __init__ method?"
   ]
  },
  {
   "cell_type": "markdown",
   "id": "f28598b8",
   "metadata": {},
   "source": [
    "1) init method is known as initialization or constructor.\n",
    "\n",
    "2) this method is calls when we have to pass the argument \n",
    "    inside the class."
   ]
  },
  {
   "cell_type": "markdown",
   "id": "eedd789c",
   "metadata": {},
   "source": [
    "# Q6. What is the process for creating a class instance?"
   ]
  },
  {
   "cell_type": "markdown",
   "id": "c1b862f6",
   "metadata": {},
   "source": [
    "- To create the class instance, we call the class by calling class name and pass the argument whatever needed it it."
   ]
  },
  {
   "cell_type": "code",
   "execution_count": 4,
   "id": "7ce2e2e9",
   "metadata": {},
   "outputs": [],
   "source": [
    "#Eg\n",
    "class employee:\n",
    "    def __init__(self,name,id):\n",
    "        self.name=name\n",
    "        self.id=id\n",
    "    \n",
    "    def employee_display(self):\n",
    "        print(\"name: \", \"id: \".format(self.name,self.id))\n"
   ]
  },
  {
   "cell_type": "code",
   "execution_count": 6,
   "id": "bfc6881e",
   "metadata": {},
   "outputs": [],
   "source": [
    "emp1=employee(\"rishabh\",722)\n",
    "\n",
    "#this would create the first instance of the class employee "
   ]
  },
  {
   "cell_type": "markdown",
   "id": "3a12f57e",
   "metadata": {},
   "source": [
    "# Q7. What is the process for creating a class?"
   ]
  },
  {
   "cell_type": "markdown",
   "id": "0ebd6590",
   "metadata": {},
   "source": [
    "- to create the class the class_name should be followed with keyword class\n",
    "\n",
    "- provide the doc string for the class.\n",
    "\n",
    "- to pass any argument inside the class we use __init__method"
   ]
  },
  {
   "cell_type": "code",
   "execution_count": 7,
   "id": "5daccd69",
   "metadata": {},
   "outputs": [],
   "source": [
    "#Eg\n",
    "\n",
    "class employee:\n",
    "    def __init__(self,name,id):\n",
    "        self.name=name\n",
    "        self.id=id\n",
    "    def display_employee(self):\n",
    "        print(\"name:\",\"id: \".format(self.name,self.id))"
   ]
  },
  {
   "cell_type": "markdown",
   "id": "c1a18faf",
   "metadata": {},
   "source": [
    "# Q8. How would you define the superclasses of a class?"
   ]
  },
  {
   "cell_type": "markdown",
   "id": "c45655b9",
   "metadata": {},
   "source": [
    "- The superclass is also known as parent class.\n",
    "- from superclass many subclasses can be created, which inherit all the characteristics of superclass.\n"
   ]
  },
  {
   "cell_type": "code",
   "execution_count": 12,
   "id": "5001290f",
   "metadata": {},
   "outputs": [
    {
     "name": "stdout",
     "output_type": "stream",
     "text": [
      "Hello, and welcome!\n"
     ]
    }
   ],
   "source": [
    "class Parent:\n",
    "    def __init__(self, txt):\n",
    "        self.message = txt\n",
    "    def printmessage(self):\n",
    "         print(self.message)\n",
    "\n",
    "class Child(Parent):\n",
    "    def __init__(self, txt):\n",
    "        super().__init__(txt)\n",
    "\n",
    "x = Child(\"Hello, and welcome!\")\n",
    "\n",
    "x.printmessage()"
   ]
  },
  {
   "cell_type": "code",
   "execution_count": null,
   "id": "0fea65fc",
   "metadata": {},
   "outputs": [],
   "source": []
  }
 ],
 "metadata": {
  "kernelspec": {
   "display_name": "Python 3 (ipykernel)",
   "language": "python",
   "name": "python3"
  },
  "language_info": {
   "codemirror_mode": {
    "name": "ipython",
    "version": 3
   },
   "file_extension": ".py",
   "mimetype": "text/x-python",
   "name": "python",
   "nbconvert_exporter": "python",
   "pygments_lexer": "ipython3",
   "version": "3.9.7"
  }
 },
 "nbformat": 4,
 "nbformat_minor": 5
}
