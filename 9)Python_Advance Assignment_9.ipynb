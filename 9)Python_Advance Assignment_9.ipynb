{
  "nbformat": 4,
  "nbformat_minor": 0,
  "metadata": {
    "colab": {
      "provenance": []
    },
    "kernelspec": {
      "name": "python3",
      "display_name": "Python 3"
    },
    "language_info": {
      "name": "python"
    }
  },
  "cells": [
    {
      "cell_type": "markdown",
      "source": [
        "**Q1. In Python 3.X, what are the names and functions of string object types?**\n",
        "\n",
        "Solution:\n",
        "\n",
        "- capitalize() , casefold() ,center(), count(),encode(), endswith(), expandtabs(), find(),format(),format_map(),index(),isalnum(),isalpha(),isdecimal(),isdigit(),isidentifier(),islower(), isnumeric(),isprintable(),isspace(),istitle(),isupper(),join(),ljust(),lower(),lstrip(),maketrans(),partition(),replace(),rfind(),rindex(),rjust()rpartition(),rsplit(),rstrip(),splitlines(),startswith(),strip(),swapcase(),title(),translate(),upper(),zfill().\n"
      ],
      "metadata": {
        "id": "jfbtEhsoCQdG"
      }
    },
    {
      "cell_type": "markdown",
      "source": [
        "**Q2. How do the string forms in Python 3.X vary in terms of operations?**\n",
        "\n",
        "Solution:\n",
        "\n",
        "- Strings can be forms in 2 ways in python\n",
        "1) by enclosing a text in double inverted commas\n",
        "2)  by enclosing a test into single inverted commas\n",
        "Both single and double inverted commas are treated same .\n"
      ],
      "metadata": {
        "id": "OXITYLpxCQfz"
      }
    },
    {
      "cell_type": "markdown",
      "source": [
        "**Q3. In 3.X, how do you put non-ASCII Unicode characters in a string?**\n",
        "\n",
        "Solution:\n",
        "\n",
        "- In order to use non-ASCII characters, Python requires explicit encoding and decoding of strings into Unicode. , Python scripts are assumed to be encoded in UTF-8, which is a standard Unicode encoding that supports non-ASCII characters\n",
        "\n",
        "To include Unicode characters in your Python source code, we can use Unicode escape characters in the form \\u."
      ],
      "metadata": {
        "id": "Pki-gechCQiT"
      }
    },
    {
      "cell_type": "markdown",
      "source": [
        "**Q4. In Python 3.X, what are the key differences between text-mode and binary-mode files?**\n",
        "\n",
        "Solution:\n",
        "\n",
        "- When we try to read or write files in our program, usually there are two modes to use. Text mode, usually by default, and binary mode. Obviously, in text mode, the program writes data to file as text characters, and in binary mode, the program writes data to files as 0/1 bits."
      ],
      "metadata": {
        "id": "XbUa0J4gCQkv"
      }
    },
    {
      "cell_type": "markdown",
      "source": [
        "**Q5. How can you interpret a Unicode text file containing text encoded in a different encoding than your platform's default?**\n",
        "\n",
        "Solution:\n",
        "\n",
        "- UTF8 is use to encoding the text which will be mention in code."
      ],
      "metadata": {
        "id": "wGLgRAbcCQnk"
      }
    },
    {
      "cell_type": "markdown",
      "source": [
        "**Q6. What is the best way to make a Unicode text file in a particular encoding format?**\n",
        "\n",
        "Solution:\n",
        "\n",
        "- we can use either normal open() and encode the Unicode yourself, or  use codecs. open() and not encode the data yourself."
      ],
      "metadata": {
        "id": "Vz4HPkD7CQqQ"
      }
    },
    {
      "cell_type": "markdown",
      "source": [
        "**Q7. What qualifies ASCII text as a form of Unicode text?**\n",
        "\n",
        "Solution:\n",
        "\n",
        "- ASCII == UNICODE\n"
      ],
      "metadata": {
        "id": "9XUMPzHCCRCv"
      }
    },
    {
      "cell_type": "markdown",
      "source": [
        "**Q8. How much of an effect does the change in string types in Python 3.X have on your code?**\n",
        "\n",
        "Solution:\n",
        "\n",
        "- There wont be any affect in the code as the string is a immutable.\n"
      ],
      "metadata": {
        "id": "zIHKyfxtCRFu"
      }
    }
  ]
}