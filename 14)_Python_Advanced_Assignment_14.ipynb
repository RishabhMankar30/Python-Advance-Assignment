{
  "nbformat": 4,
  "nbformat_minor": 0,
  "metadata": {
    "colab": {
      "provenance": []
    },
    "kernelspec": {
      "name": "python3",
      "display_name": "Python 3"
    },
    "language_info": {
      "name": "python"
    }
  },
  "cells": [
    {
      "cell_type": "markdown",
      "source": [
        "**Q1. Is an assignment operator like += only for show? Is it possible that it would lead to faster results\n",
        "at the runtime?**\n",
        "\n",
        "Solution:\n",
        "\n",
        "This is addition assignment operator in python.\n",
        "variable+=value\n",
        "This operator add the value to the variable each time when program execute.\n",
        "This operator adds the value specified to the variable during runtime, everytime when program or loop executed.\n",
        "\n",
        "it is same as a=a+2 (variable = variable+value)"
      ],
      "metadata": {
        "id": "YdNHHmnzQ8m4"
      }
    },
    {
      "cell_type": "markdown",
      "source": [
        "**Q2. What is the smallest number of statements you&#39;d have to write in most programming languages to\n",
        "replace the Python expression a, b = a + b, a?**\n",
        "\n",
        "Solution:\n",
        "\n",
        "a=0\n",
        "b=0\n",
        "a=a+b\n",
        "b=a"
      ],
      "metadata": {
        "id": "sotgBlZobE_Y"
      }
    },
    {
      "cell_type": "markdown",
      "source": [
        "**Q3. In Python, what is the most effective way to set a list of 100 integers to 0?**"
      ],
      "metadata": {
        "id": "-5rhWTrLcbmM"
      }
    },
    {
      "cell_type": "code",
      "source": [
        "list1=[i for i in range(1,101)]"
      ],
      "metadata": {
        "id": "mR9Qi0ugTHOk"
      },
      "execution_count": 2,
      "outputs": []
    },
    {
      "cell_type": "code",
      "source": [
        "list1"
      ],
      "metadata": {
        "colab": {
          "base_uri": "https://localhost:8080/"
        },
        "id": "DtiuBgpOcmRm",
        "outputId": "6ab4e7f6-c27f-44f3-911b-a59ad55d9774"
      },
      "execution_count": 5,
      "outputs": [
        {
          "output_type": "execute_result",
          "data": {
            "text/plain": [
              "[1,\n",
              " 2,\n",
              " 3,\n",
              " 4,\n",
              " 5,\n",
              " 6,\n",
              " 7,\n",
              " 8,\n",
              " 9,\n",
              " 10,\n",
              " 11,\n",
              " 12,\n",
              " 13,\n",
              " 14,\n",
              " 15,\n",
              " 16,\n",
              " 17,\n",
              " 18,\n",
              " 19,\n",
              " 20,\n",
              " 21,\n",
              " 22,\n",
              " 23,\n",
              " 24,\n",
              " 25,\n",
              " 26,\n",
              " 27,\n",
              " 28,\n",
              " 29,\n",
              " 30,\n",
              " 31,\n",
              " 32,\n",
              " 33,\n",
              " 34,\n",
              " 35,\n",
              " 36,\n",
              " 37,\n",
              " 38,\n",
              " 39,\n",
              " 40,\n",
              " 41,\n",
              " 42,\n",
              " 43,\n",
              " 44,\n",
              " 45,\n",
              " 46,\n",
              " 47,\n",
              " 48,\n",
              " 49,\n",
              " 50,\n",
              " 51,\n",
              " 52,\n",
              " 53,\n",
              " 54,\n",
              " 55,\n",
              " 56,\n",
              " 57,\n",
              " 58,\n",
              " 59,\n",
              " 60,\n",
              " 61,\n",
              " 62,\n",
              " 63,\n",
              " 64,\n",
              " 65,\n",
              " 66,\n",
              " 67,\n",
              " 68,\n",
              " 69,\n",
              " 70,\n",
              " 71,\n",
              " 72,\n",
              " 73,\n",
              " 74,\n",
              " 75,\n",
              " 76,\n",
              " 77,\n",
              " 78,\n",
              " 79,\n",
              " 80,\n",
              " 81,\n",
              " 82,\n",
              " 83,\n",
              " 84,\n",
              " 85,\n",
              " 86,\n",
              " 87,\n",
              " 88,\n",
              " 89,\n",
              " 90,\n",
              " 91,\n",
              " 92,\n",
              " 93,\n",
              " 94,\n",
              " 95,\n",
              " 96,\n",
              " 97,\n",
              " 98,\n",
              " 99,\n",
              " 100]"
            ]
          },
          "metadata": {},
          "execution_count": 5
        }
      ]
    },
    {
      "cell_type": "code",
      "source": [
        "list1=0"
      ],
      "metadata": {
        "id": "wEdeh3wYc4rh"
      },
      "execution_count": 6,
      "outputs": []
    },
    {
      "cell_type": "code",
      "source": [
        "list1"
      ],
      "metadata": {
        "colab": {
          "base_uri": "https://localhost:8080/"
        },
        "id": "pelnDFnQdQpQ",
        "outputId": "06d49b6f-57ef-4c5f-a639-5a384ffa4765"
      },
      "execution_count": 7,
      "outputs": [
        {
          "output_type": "execute_result",
          "data": {
            "text/plain": [
              "0"
            ]
          },
          "metadata": {},
          "execution_count": 7
        }
      ]
    },
    {
      "cell_type": "markdown",
      "source": [
        "**Q4. What is the most effective way to initialise a list of 99 integers that repeats the sequence 1, 2, 3?\n",
        "S If necessary, show step-by-step instructions on how to accomplish this.**"
      ],
      "metadata": {
        "id": "MHKJZryIdTt5"
      }
    },
    {
      "cell_type": "code",
      "source": [
        "lst=[i for i in range(1,100)]"
      ],
      "metadata": {
        "id": "FxvZvYJVdRud"
      },
      "execution_count": 8,
      "outputs": []
    },
    {
      "cell_type": "code",
      "source": [
        "for j in lst:\n",
        "  print (j)"
      ],
      "metadata": {
        "colab": {
          "base_uri": "https://localhost:8080/"
        },
        "id": "q81UvMRYdtdm",
        "outputId": "3dd520dd-eecc-4b3e-ac85-78a07d244e39"
      },
      "execution_count": 9,
      "outputs": [
        {
          "output_type": "stream",
          "name": "stdout",
          "text": [
            "1\n",
            "2\n",
            "3\n",
            "4\n",
            "5\n",
            "6\n",
            "7\n",
            "8\n",
            "9\n",
            "10\n",
            "11\n",
            "12\n",
            "13\n",
            "14\n",
            "15\n",
            "16\n",
            "17\n",
            "18\n",
            "19\n",
            "20\n",
            "21\n",
            "22\n",
            "23\n",
            "24\n",
            "25\n",
            "26\n",
            "27\n",
            "28\n",
            "29\n",
            "30\n",
            "31\n",
            "32\n",
            "33\n",
            "34\n",
            "35\n",
            "36\n",
            "37\n",
            "38\n",
            "39\n",
            "40\n",
            "41\n",
            "42\n",
            "43\n",
            "44\n",
            "45\n",
            "46\n",
            "47\n",
            "48\n",
            "49\n",
            "50\n",
            "51\n",
            "52\n",
            "53\n",
            "54\n",
            "55\n",
            "56\n",
            "57\n",
            "58\n",
            "59\n",
            "60\n",
            "61\n",
            "62\n",
            "63\n",
            "64\n",
            "65\n",
            "66\n",
            "67\n",
            "68\n",
            "69\n",
            "70\n",
            "71\n",
            "72\n",
            "73\n",
            "74\n",
            "75\n",
            "76\n",
            "77\n",
            "78\n",
            "79\n",
            "80\n",
            "81\n",
            "82\n",
            "83\n",
            "84\n",
            "85\n",
            "86\n",
            "87\n",
            "88\n",
            "89\n",
            "90\n",
            "91\n",
            "92\n",
            "93\n",
            "94\n",
            "95\n",
            "96\n",
            "97\n",
            "98\n",
            "99\n"
          ]
        }
      ]
    },
    {
      "cell_type": "markdown",
      "source": [
        "**Q5. If you&#39;re using IDLE to run a Python application, explain how to print a multidimensional list as\n",
        "efficiently?**"
      ],
      "metadata": {
        "id": "I--zknzSeVHG"
      }
    },
    {
      "cell_type": "code",
      "source": [
        "a = [[2, 4, 6, 8, 10], [3, 6, 9, 12, 15], [4, 8, 12, 16, 20]]\n",
        "print(a)"
      ],
      "metadata": {
        "colab": {
          "base_uri": "https://localhost:8080/"
        },
        "id": "ihIFXrsTdxFa",
        "outputId": "e663d2f7-2f36-411d-db64-0bd1b702c661"
      },
      "execution_count": 12,
      "outputs": [
        {
          "output_type": "stream",
          "name": "stdout",
          "text": [
            "[[2, 4, 6, 8, 10], [3, 6, 9, 12, 15], [4, 8, 12, 16, 20]]\n"
          ]
        }
      ]
    },
    {
      "cell_type": "markdown",
      "source": [
        "**Q6. Is it possible to use list comprehension with a string? If so, how can you go about doing it?**\n",
        "\n",
        "Solution:\n",
        "\n",
        "Yes, See the example below"
      ],
      "metadata": {
        "id": "RCzVdkaqhAfs"
      }
    },
    {
      "cell_type": "code",
      "source": [
        "names = ['Steve', 'Bill', 'Ram', 'Mohan', 'Abdul']\n",
        "names2 = [s for s in names if 'R' in s]\n",
        "print(names2)"
      ],
      "metadata": {
        "colab": {
          "base_uri": "https://localhost:8080/"
        },
        "id": "URIpHAXceSro",
        "outputId": "7cf8c6ad-c126-4936-cb9d-330d9a8bf759"
      },
      "execution_count": 13,
      "outputs": [
        {
          "output_type": "stream",
          "name": "stdout",
          "text": [
            "['Ram']\n"
          ]
        }
      ]
    },
    {
      "cell_type": "markdown",
      "source": [
        "**Q7. From the command line, how do you get support with a user-written Python programme? Is this\n",
        "possible from inside IDLE?**\n",
        "\n",
        "Solution:\n",
        "\n",
        "Yes, It is possible in IDLE also using terminal window\n",
        "\n",
        "For command line:\n",
        "open command prompt--> \"start [filename.exe]\""
      ],
      "metadata": {
        "id": "wesUEz6vmYMt"
      }
    },
    {
      "cell_type": "markdown",
      "source": [
        "\n",
        "**Q9. How do you distinguish between a wrapper, a wrapped feature, and a decorator?**\n",
        "\n",
        "Wrappers are  the functions are also knows as decorators which are a very powerful and useful tool in Python since it allows programmers to modify the behavior of function or class. \n",
        "Decorators allow  to wrap another function in order to extend the behavior of the wrapped function, without modifying it permanently."
      ],
      "metadata": {
        "id": "h7p9eNM6zGgg"
      }
    },
    {
      "cell_type": "markdown",
      "source": [
        "**Q10. If a function is a generator function, what does it return?**\n",
        "\n",
        "A generator is a special type of function which does not return a single value, instead, it returns an iterator object with a sequence of values."
      ],
      "metadata": {
        "id": "UFiare9w5cxC"
      }
    },
    {
      "cell_type": "markdown",
      "source": [
        "**Q11. What is the one improvement that must be made to a function in order for it to become a\n",
        "generator function in the Python language?**\n",
        "\n",
        "There is just need to pass the yeild , to get the output."
      ],
      "metadata": {
        "id": "bUsEpsOg6yUx"
      }
    },
    {
      "cell_type": "markdown",
      "source": [
        "**Q12. Identify at least one benefit of generators.**\n",
        "\n",
        "Memory is saved as the items are produced when required in the python."
      ],
      "metadata": {
        "id": "e5iWEqZk6-f1"
      }
    },
    {
      "cell_type": "code",
      "source": [],
      "metadata": {
        "id": "1khlBcbFhHix"
      },
      "execution_count": null,
      "outputs": []
    }
  ]
}