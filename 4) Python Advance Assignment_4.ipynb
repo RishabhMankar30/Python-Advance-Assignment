{
 "cells": [
  {
   "cell_type": "markdown",
   "id": "3ed92d98",
   "metadata": {},
   "source": [
    "\n",
    "# Q1. Which two operator overloading methods can you use in your classes to support iteration?"
   ]
  },
  {
   "cell_type": "markdown",
   "id": "92146d31",
   "metadata": {},
   "source": [
    "1) Overloading of functions or methods ( Function Overloading ).\n",
    "\n",
    "2) Overloading of operators ( Operator Overloading )."
   ]
  },
  {
   "cell_type": "markdown",
   "id": "3bf9661f",
   "metadata": {},
   "source": [
    "# Q2. In what contexts do the two operator overloading methods manage printing? "
   ]
  },
  {
   "cell_type": "markdown",
   "id": "144e271e",
   "metadata": {},
   "source": [
    "- by defining a __str__ method in a class we can manage printing.\n",
    "- we have inbuilt function str() which convert everything into normal person readable format.\n",
    "- when we are writting str() function it is actually calling a class instance __str__ and convert the data into string or human readable format.\n",
    "-  __str__() is the method that is used by Python when you call print() on your object."
   ]
  },
  {
   "cell_type": "code",
   "execution_count": 7,
   "id": "718103be",
   "metadata": {},
   "outputs": [
    {
     "name": "stdout",
     "output_type": "stream",
     "text": [
      "3i+4j\n"
     ]
    }
   ],
   "source": [
    "#eg\n",
    "\n",
    "class vector:\n",
    "    def __init__(self, x_comp, y_comp):\n",
    "        self.x_comp = x_comp\n",
    "        self.y_comp = y_comp\n",
    "    def __str__(self):\n",
    "        return f'{self.x_comp}i{self.y_comp:+}j'\n",
    "    \n",
    "\n",
    "vec=vector(3,4)\n",
    "print(vec)"
   ]
  },
  {
   "cell_type": "markdown",
   "id": "e6426579",
   "metadata": {},
   "source": [
    "# Q3. In a class, how do you intercept slice operations? "
   ]
  },
  {
   "cell_type": "markdown",
   "id": "2ee17d8c",
   "metadata": {},
   "source": [
    "- The __getitem__ method is used for accessing list items, array elements, dictionary entries etc. slice is a constructor in Python that creates slice object to represent set of indices that the range(start, stop, step) specifies. ____getitem____ method can be implement in a class, and the behavior of slicing can be defined inside it.\n",
    "\n",
    "- ____getitem____(slice(start, stop, step))\n",
    "\n",
    "- slice() : constructor to create slice object.\n",
    "  start: An integer number specifying start index.It is optional and default is 0.\n",
    "  stop: An integer number specifying end index.\n",
    "  step: An integer number specifying the step of slicing. It is optional and\n",
    "  default is 1.\n",
    "\n",
    "-  abcde is string can be and  \n",
    "    an array as well.\n"
   ]
  },
  {
   "cell_type": "code",
   "execution_count": 9,
   "id": "f54e5057",
   "metadata": {},
   "outputs": [
    {
     "name": "stdout",
     "output_type": "stream",
     "text": [
      "ab\n"
     ]
    }
   ],
   "source": [
    "#eg\n",
    "sliced ='abcde'.__getitem__(slice(0, 2, 1)) \n",
    "print(sliced)"
   ]
  },
  {
   "cell_type": "markdown",
   "id": "5911dce2",
   "metadata": {},
   "source": [
    "# Q4. In a class, how do you capture in-place addition? "
   ]
  },
  {
   "cell_type": "markdown",
   "id": "ecdc95cb",
   "metadata": {},
   "source": [
    "-   Python provides the operator x += y to add two objects in-place by calculating the sum x + y and assigning the result to the first operands variable name x. \n",
    "-  This is kbnown as inplace addition.\n",
    "\n",
    "- Inside python class this can be achive by magic method __iadd__.\n"
   ]
  },
  {
   "cell_type": "markdown",
   "id": "84cb5461",
   "metadata": {},
   "source": [
    "class data:\n",
    "    def __init__(self,a):\n",
    "        self.a=a\n",
    "    def __iadd__(self,other):\n",
    "        self.other=other\n",
    "        self.a+=self.other\n",
    "        return self\n",
    "\n",
    "x=data(40)\n",
    "y=data(2)\n",
    "x+=y\n",
    "print(x.data)\n",
    "\n",
    "#output: 42\n"
   ]
  },
  {
   "cell_type": "markdown",
   "id": "e95cc28f",
   "metadata": {},
   "source": [
    "# 5)When is it appropriate to use operator overloading?"
   ]
  },
  {
   "cell_type": "markdown",
   "id": "0476acfa",
   "metadata": {},
   "source": [
    "Operator overloading is mostly useful when you're making a new class that falls into an existing \"Abstract Base Class\" (ABC) "
   ]
  },
  {
   "cell_type": "code",
   "execution_count": null,
   "id": "a8c304b7",
   "metadata": {},
   "outputs": [],
   "source": []
  }
 ],
 "metadata": {
  "kernelspec": {
   "display_name": "Python 3 (ipykernel)",
   "language": "python",
   "name": "python3"
  },
  "language_info": {
   "codemirror_mode": {
    "name": "ipython",
    "version": 3
   },
   "file_extension": ".py",
   "mimetype": "text/x-python",
   "name": "python",
   "nbconvert_exporter": "python",
   "pygments_lexer": "ipython3",
   "version": "3.9.7"
  }
 },
 "nbformat": 4,
 "nbformat_minor": 5
}
