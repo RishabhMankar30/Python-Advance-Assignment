{
  "nbformat": 4,
  "nbformat_minor": 0,
  "metadata": {
    "colab": {
      "provenance": []
    },
    "kernelspec": {
      "name": "python3",
      "display_name": "Python 3"
    },
    "language_info": {
      "name": "python"
    }
  },
  "cells": [
    {
      "cell_type": "markdown",
      "source": [
        "**Q1. What is the concept of a metaclass?**\n",
        "\n",
        "Solution:\n",
        "-  a metaclass is a class whose instances are classes\n",
        "-  A metaclass  is a class of a class that defines how a class behaves.\n"
      ],
      "metadata": {
        "id": "LgzO0YW9FRdY"
      }
    },
    {
      "cell_type": "markdown",
      "source": [
        "**Q2. What is the best way to declare a class's metaclass?**\n",
        "\n",
        "Solution: \n",
        "\n",
        "- by passing the metaclass keyword in the class definition we can create the metaclass"
      ],
      "metadata": {
        "id": "EIeMAl9MFah4"
      }
    },
    {
      "cell_type": "code",
      "source": [
        "class MyMeta(type):\n",
        "    pass\n",
        "\n",
        "class MyClass(metaclass=MyMeta):\n",
        "    pass\n",
        "\n",
        "class MySubclass(MyClass):\n",
        "    pass"
      ],
      "metadata": {
        "id": "wkKOVHf4FjmQ"
      },
      "execution_count": 1,
      "outputs": []
    },
    {
      "cell_type": "markdown",
      "source": [
        "**Q3. How do class decorators overlap with metaclasses for handling classes?**\n",
        "\n",
        "Solution:\n",
        "\n",
        "\n",
        "- The code example is given below, the way class decorators overlap with metaclasses for handling classes"
      ],
      "metadata": {
        "id": "h7lcVGrBFnzR"
      }
    },
    {
      "cell_type": "code",
      "source": [
        "class Deco4cls(type):\n",
        "    def __init__(cls, name, bases, attr_dict):\n",
        "        # print(cls, name, bases, attr_dict)\n",
        "        super().__init__(name, bases, attr_dict)\n",
        "        cls.func1 = lambda self: 2\n",
        "\n",
        "\n",
        "class Cls2(metaclass=Deco4cls):\n",
        "    pass\n",
        "\n",
        "\n",
        "class Cls2_1(Cls2):\n",
        "    def func1(self):\n",
        "        return 3\n",
        "\n",
        "\n",
        "obj2_1 = Cls2_1()\n",
        "print(obj2_1.func1())"
      ],
      "metadata": {
        "colab": {
          "base_uri": "https://localhost:8080/"
        },
        "id": "H52_DGjFFt7w",
        "outputId": "dc519cbf-7578-4e64-d1ef-5cfa3711029d"
      },
      "execution_count": 2,
      "outputs": [
        {
          "output_type": "stream",
          "name": "stdout",
          "text": [
            "2\n"
          ]
        }
      ]
    },
    {
      "cell_type": "markdown",
      "source": [
        "**Q4. How do class decorators overlap with metaclasses for handling instances?**\n",
        "\n",
        "Solution:\n",
        "\n",
        "The example is shown below"
      ],
      "metadata": {
        "id": "HaDE98ICF0O7"
      }
    },
    {
      "cell_type": "code",
      "source": [
        "def deco4cls(cls):\n",
        "    cls.func1 = lambda self: 2\n",
        "    return cls\n",
        "\n",
        "\n",
        "@deco4cls\n",
        "class Cls1:\n",
        "    pass\n",
        "\n",
        "\n",
        "class Cls1_1(Cls1):\n",
        "    def func1(self):\n",
        "        return 3\n",
        "\n",
        "\n",
        "obj1_1 = Cls1_1()\n",
        "print(obj1_1.func1())"
      ],
      "metadata": {
        "id": "FDJx-XWAGbFg",
        "outputId": "1ceb3c44-8fd7-4312-b229-598bc976997a",
        "colab": {
          "base_uri": "https://localhost:8080/"
        }
      },
      "execution_count": 3,
      "outputs": [
        {
          "output_type": "stream",
          "name": "stdout",
          "text": [
            "3\n"
          ]
        }
      ]
    },
    {
      "cell_type": "code",
      "source": [],
      "metadata": {
        "id": "d_C0P2OsGdFf"
      },
      "execution_count": null,
      "outputs": []
    }
  ]
}