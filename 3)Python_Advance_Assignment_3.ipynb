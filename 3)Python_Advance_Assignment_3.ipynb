{
  "nbformat": 4,
  "nbformat_minor": 0,
  "metadata": {
    "colab": {
      "provenance": []
    },
    "kernelspec": {
      "name": "python3",
      "display_name": "Python 3"
    },
    "language_info": {
      "name": "python"
    }
  },
  "cells": [
    {
      "cell_type": "markdown",
      "source": [
        "**1. What is the concept of an abstract superclass?**\n",
        "\n",
        "Solution:\n",
        "\n",
        "- An abstract superclass is to provide re-usable code.\n",
        "- A class is called an Abstract class if it contains one or more abstract methods. An abstract method is a method that is declared, but contains no implementation\n"
      ],
      "metadata": {
        "id": "TKxZ04ZlvvIQ"
      }
    },
    {
      "cell_type": "markdown",
      "source": [
        "**2. What happens when a class statement's top level contains a basic assignment statement?**\n",
        "\n",
        "Solution:\n",
        "\n",
        "- An assignment statement sets the current value of a variable, field, parameter,  and element. \n",
        "- The statement consists of an assignment target followed by the assignment operator and an expression. \n",
        "- When the statement is executed, the expression is evaluated and the resulting value is stored in the target.\n"
      ],
      "metadata": {
        "id": "9KjRzpHwvvK8"
      }
    },
    {
      "cell_type": "markdown",
      "source": [
        "**3. Why does a class need to manually call a superclass&#39;s __init__ method?**\n",
        "\n",
        "Solution:\n",
        "\n",
        "- class  _init__ is that base class may typically create member variable and initialize them to defaults. So if you don't  class init, none of that code would be executed\n",
        "\n",
        "\n"
      ],
      "metadata": {
        "id": "hWS3fCmNvvNx"
      }
    },
    {
      "cell_type": "markdown",
      "source": [
        "**4. How can you augment, instead of completely replacing, an inherited method?**\n",
        "\n",
        "Solution:\n",
        "\n",
        "- A way to augment an inherited method involves forwarding. \n",
        "- Message forwarding allows you to augment an inherited method in such a way that it can perform its inherited action and some new action."
      ],
      "metadata": {
        "id": "MGKwbDa_vvoH"
      }
    },
    {
      "cell_type": "markdown",
      "source": [
        "**5. How is the local scope of a class different from that of a function?**\n",
        "\n",
        "Solution:\n",
        "\n",
        "-  if you assign a value to a name inside a function, then that name will have a local Python scope. In contrast, if you assign a value to a name outside of all functions—say, at the top level of a module—then that name will have a global Python scope."
      ],
      "metadata": {
        "id": "ThWLQniBvvuL"
      }
    },
    {
      "cell_type": "code",
      "source": [],
      "metadata": {
        "id": "g40ffTmJwRhk"
      },
      "execution_count": null,
      "outputs": []
    }
  ]
}