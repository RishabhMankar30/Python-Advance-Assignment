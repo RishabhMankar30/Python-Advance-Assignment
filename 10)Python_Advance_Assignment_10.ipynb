{
  "nbformat": 4,
  "nbformat_minor": 0,
  "metadata": {
    "colab": {
      "provenance": []
    },
    "kernelspec": {
      "name": "python3",
      "display_name": "Python 3"
    },
    "language_info": {
      "name": "python"
    }
  },
  "cells": [
    {
      "cell_type": "markdown",
      "source": [
        "**Q1. What is the difference between __getattr__ and __getattribute__?**\n",
        "\n",
        "Solution:\n",
        "\n",
        "__getattribute__ will be called for every access, and __getattr__ will be called for the times that __getattribute__ raised an AttributeError ."
      ],
      "metadata": {
        "id": "ZZXjPb1Hydhg"
      }
    },
    {
      "cell_type": "markdown",
      "source": [
        "**Q2. What is the difference between properties and descriptors?**\n",
        "\n",
        "Solution:\n",
        "\n",
        "descriptors are a low-level mechanism that lets you hook into an object's attributes being accessed. Properties are a high-level application of this; that is, properties are implemented using descriptors. "
      ],
      "metadata": {
        "id": "EG6ESAgTydrW"
      }
    },
    {
      "cell_type": "markdown",
      "source": [
        "**Q3. What are the key differences in functionality between __getattr__ and __getattribute__, as well as\n",
        "properties and descriptors?**\n",
        "\n",
        "Solution:\n",
        "\n",
        "__getattribute__ has a default implementation, but __getattr__ does not.\n",
        "\n",
        "A descriptor is a mechanism behind properties, methods, static methods, class methods, and super() "
      ],
      "metadata": {
        "id": "tiusYFk1yd1G"
      }
    }
  ]
}