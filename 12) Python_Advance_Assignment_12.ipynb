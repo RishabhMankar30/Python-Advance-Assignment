{
  "nbformat": 4,
  "nbformat_minor": 0,
  "metadata": {
    "colab": {
      "provenance": []
    },
    "kernelspec": {
      "name": "python3",
      "display_name": "Python 3"
    },
    "language_info": {
      "name": "python"
    }
  },
  "cells": [
    {
      "cell_type": "markdown",
      "source": [
        "**Q1. Does assigning a value to a string's indexed character violate Python string immutability?**\n",
        "\n",
        "Solution:\n",
        "\n",
        "No, It does not voilate string Immutability concept, Strings are Immutable.\n",
        "\n"
      ],
      "metadata": {
        "id": "B3vJTu0ZYULn"
      }
    },
    {
      "cell_type": "markdown",
      "source": [
        "**Q2. Does using the += operator to concatenate strings violate Python&#39;s string immutability? Why or\n",
        "why not?**\n",
        "\n",
        "Solution: \n",
        "\n",
        "- No this wont violates the string immutability because we are not making changes in the content of the origional string, we are just concatenation another string with origional string"
      ],
      "metadata": {
        "id": "G91HknHGYu8Y"
      }
    },
    {
      "cell_type": "markdown",
      "source": [
        "**Q3. In Python, how many different ways are there to index a character?**\n",
        "\n",
        "Solution:\n",
        "\n",
        "There are two ways of indexing a character \n",
        "\n",
        "1) By positive Indexing \n",
        "\n",
        "2) By negative Indexing"
      ],
      "metadata": {
        "id": "6YgkQqr2aHwP"
      }
    },
    {
      "cell_type": "markdown",
      "source": [
        "**Q4. What is the relationship between indexing and slicing?**\n",
        "\n",
        "Solution:\n",
        "\n",
        "- Indexing is used to obtain individual elements. Slicing: Slicing is used to obtain a sequence of elements."
      ],
      "metadata": {
        "id": "WyYj1pAvbIhm"
      }
    },
    {
      "cell_type": "markdown",
      "source": [],
      "metadata": {
        "id": "W-kYWLXBb90V"
      }
    },
    {
      "cell_type": "markdown",
      "source": [
        "**Q5. What is an indexed character&#39;s exact data type? What is the data form of a slicing-generated\n",
        "substring?**\n",
        "\n",
        "Solution:\n",
        " \n",
        "indexed character&#39;s exact data type and data form of a slicing-generated\n",
        "substring is a  \"string\"\n",
        "\n",
        "\n"
      ],
      "metadata": {
        "id": "sT6amfJmb989"
      }
    },
    {
      "cell_type": "markdown",
      "source": [
        "**Q6. What is the relationship between string and character &quot;types&quot; in Python?**\n",
        "\n",
        "Solution:\n",
        "\n",
        "- String and character data types in python would be string (str) itself."
      ],
      "metadata": {
        "id": "nb644xIEcn3Q"
      }
    },
    {
      "cell_type": "markdown",
      "source": [
        "**Q7. Identify at least two operators and one method that allow you to combine one or more smaller\n",
        "strings to create a larger string.**\n",
        "\n",
        "Soluion:\n",
        "\n",
        "- operators: + and +=\n",
        "\n",
        "- method: \" \".join([st1,str2])\n",
        "\n"
      ],
      "metadata": {
        "id": "eFq4RTq0cn-0"
      }
    },
    {
      "cell_type": "markdown",
      "source": [
        "**Q8. What is the benefit of first checking the target string with in or not in before using the index\n",
        "method to find a substring?**\n",
        "\n",
        "Solution: \n",
        "\n",
        "If we first check the substring in the main string, it will through True and False, which will ultimately prevent the error printing message if substring is not present and save execution time by not exucuting the further code. \n",
        "\n",
        "- "
      ],
      "metadata": {
        "id": "DhJbh90NeapP"
      }
    },
    {
      "cell_type": "markdown",
      "source": [
        "**Q9. Which operators and built-in string methods produce simple Boolean (true/false) results?**\n",
        "\n",
        "Solution: \n",
        "\n",
        "- not and in oprators\n",
        "\n",
        "\n",
        "- str.isalnum(), str.islower(), str.isnumeric(), str.isspace(), str.istitle(), str.isupper()"
      ],
      "metadata": {
        "id": "BgoDd_r5ea00"
      }
    }
  ]
}