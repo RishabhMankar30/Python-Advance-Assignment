{
 "cells": [
  {
   "cell_type": "markdown",
   "id": "800a3f0e",
   "metadata": {},
   "source": [
    "# Q1. What is the relationship between classes and modules?"
   ]
  },
  {
   "cell_type": "markdown",
   "id": "59935490",
   "metadata": {},
   "source": [
    "classes: classes are nothing but a blueprint of the objects,it helps to arrange the code and modernize the code.\n",
    "class consist of objects, variable, and functions that can be call in the program.\n",
    "\n",
    "Modules: Modules are nothing but the file with \".py\" extension. \n",
    "Modules consist of python code , which include classes, objects, variable and functions.\n",
    "Modules can be import in any program if we want to reuse the code, classes, function etc inside this module. This saves the time of rewritting the same code again.\n",
    "\n"
   ]
  },
  {
   "cell_type": "markdown",
   "id": "1626f673",
   "metadata": {},
   "source": [
    "# Q2. How do you make instances and classes?"
   ]
  },
  {
   "cell_type": "code",
   "execution_count": 7,
   "id": "2bbd4211",
   "metadata": {},
   "outputs": [],
   "source": [
    "class car_shop:\n",
    "    def __init__(self,owner,no_of_cars,workers,types_of_cars):\n",
    "        self.owner=owner\n",
    "        self.no_of_cars=no_of_cars\n",
    "        self.workers=workers\n",
    "        self.types_of_cars=types_of_cars\n",
    "        \n",
    "    def polo():\n",
    "        colour=\"red\"\n",
    "        design=\"sports\"\n",
    "        ratings=\"5\"\n",
    "    def harrier():\n",
    "        colour=\"Black\"\n",
    "        design=\"Custom_made\"\n",
    "        ratings=\"9.5\"\n",
    "           \n",
    "\n",
    "\n",
    "        \n",
    "#Instance of the above class car_shop:\n",
    "showroom=car_shop(\"rishabh\",2,3,2)\n",
    "#here the showroom is the class instance, \n",
    "#where we have given all the required variable to the class."
   ]
  },
  {
   "cell_type": "markdown",
   "id": "4bf25b29",
   "metadata": {},
   "source": [
    "# Q3. Where and how should be class attributes created?"
   ]
  },
  {
   "cell_type": "markdown",
   "id": "6409f565",
   "metadata": {},
   "source": [
    "A class attribute is a Python variable that belongs to a class rather than a particular object. It is shared between all the objects of this class and it is defined outside the constructor function, __init__(self,...), of the class."
   ]
  },
  {
   "cell_type": "code",
   "execution_count": null,
   "id": "de15d751",
   "metadata": {},
   "outputs": [],
   "source": [
    "class books:\n",
    "    book_size=100\n",
    "    book_rating=5\n",
    "    def book_1():\n",
    "        name=\"science\"\n",
    "        grade=\"9th\"\n",
    "\n"
   ]
  },
  {
   "cell_type": "markdown",
   "id": "bdf00c96",
   "metadata": {},
   "source": [
    "- Here book_size and book_rating are the is the class attribute.\n",
    "- class attribute can be call by class name.class atttribute (within the class)\n",
    "  if we want to call class attribute outside of the class then we can call it by using that        classvariable.classattribute.\n",
    "  \n"
   ]
  },
  {
   "cell_type": "code",
   "execution_count": 9,
   "id": "21d5d699",
   "metadata": {},
   "outputs": [
    {
     "name": "stdout",
     "output_type": "stream",
     "text": [
      "1\n",
      "2\n"
     ]
    }
   ],
   "source": [
    "class sampleclass:\n",
    "    count = 0     # class attribute\n",
    "    def increase(self):\n",
    "        sampleclass.count += 1 #class attribute calling by class name inside class.\n",
    "        \n",
    "        \n",
    "s1=sampleclass()\n",
    "s1.increase()\n",
    "print(s1.count)  #calling the class attribute by class variable(class object)\n",
    "\n",
    "s2=sampleclass()\n",
    "s2.increase()\n",
    "print(s2.count)  #calling the class attribute by another class variable(class object)"
   ]
  },
  {
   "cell_type": "markdown",
   "id": "28dc3755",
   "metadata": {},
   "source": [
    "# Q4. Where and how are instance attributes created?"
   ]
  },
  {
   "cell_type": "markdown",
   "id": "07f4ec15",
   "metadata": {},
   "source": [
    "An instance attribute is a Python variable belonging to one, and only one, object. This variable is only accessible in the scope of that object and it is defined inside the constructor function, __init__(self,..) of the class."
   ]
  },
  {
   "cell_type": "code",
   "execution_count": 11,
   "id": "8c41d696",
   "metadata": {},
   "outputs": [],
   "source": [
    "class car_shop:\n",
    "    def __init__(self,owner,no_of_cars,workers,types_of_cars):\n",
    "        self.owner=owner\n",
    "        self.no_of_cars=no_of_cars\n",
    "        self.workers=workers\n",
    "        self.types_of_cars=types_of_cars\n",
    "        \n",
    "    def polo():\n",
    "        colour=\"red\"\n",
    "        design=\"sports\"\n",
    "        ratings=\"5\"\n",
    "    def harrier():\n",
    "        colour=\"Black\"\n",
    "        design=\"Custom_made\"\n",
    "        ratings=\"9.5\"\n",
    "        \n",
    "showroom=car_shop(\"rishabh\",2,5,\"sedan\")"
   ]
  },
  {
   "cell_type": "markdown",
   "id": "2d6d2b37",
   "metadata": {},
   "source": [
    "Here owner,no.of cars,workers,types_of_cars are the instance variable and that belongs to only one  object that is  showroom."
   ]
  },
  {
   "cell_type": "markdown",
   "id": "f1d47873",
   "metadata": {},
   "source": [
    "# Q5. What does the term \"self\" in a Python class mean?"
   ]
  },
  {
   "cell_type": "markdown",
   "id": "c72a5789",
   "metadata": {},
   "source": [
    "- Instance: Instance is the individual object that belongs to a particular class.Through this instance we can access all that class attribute.\n",
    "\n",
    "- self represents the instance of the class. By using the “self”  we can access the attributes and methods of the class in python.\n",
    "  self inside the class also point towards that class.\n",
    "\n"
   ]
  },
  {
   "cell_type": "markdown",
   "id": "54ebcc9f",
   "metadata": {},
   "source": [
    "# Q6. How does a Python class handle operator overloading?"
   ]
  },
  {
   "cell_type": "markdown",
   "id": "f1fda14c",
   "metadata": {},
   "source": [
    "- Operator overloading in python means giving additional meaning to the operator other than its (Operator) predefined operational meaning.\n",
    "  Example: addition(+) operator is use to add two integers. This same operator is use to join two string and two list.\n",
    "  this is known as operator overloading.\n",
    "  Here we are overloading the + operator by str(), list(), int() class.\n",
    "\n",
    "- Note: str(), int(), list() etc are the classes in python\n",
    "   __ add __ is the special function or magic function.\n",
    "  Class functions that begin with double underscore __ are called special functions in Python.\n",
    "  \n",
    "  - eg: sum=1+2\n",
    "  \n",
    "  - Here we are doing an addition of two integers by using + operator. But internally python compiler does the following steps\n",
    "1)  when we pass the two interger, python compiler understood these are the integers.\n",
    "\n",
    "2) it calls the __ int __() class.\n",
    "\n",
    "3) after __ int __() class, it will call the __ add __() inbuilt method(special function or magic function) which inside the str() class.\n",
    "\n",
    "4) Now compiler performs the addition of 1and 2\n",
    "\n",
    "- Internally python does like this\n",
    "\n",
    "   eg: sum=1+2\n",
    "   \n",
    "   a=__ int()__ .__ add __(1,2)\n"
   ]
  },
  {
   "cell_type": "code",
   "execution_count": 12,
   "id": "76baaa32",
   "metadata": {},
   "outputs": [
    {
     "ename": "TypeError",
     "evalue": "unsupported operand type(s) for +: 'addition' and 'addition'",
     "output_type": "error",
     "traceback": [
      "\u001b[1;31m---------------------------------------------------------------------------\u001b[0m",
      "\u001b[1;31mTypeError\u001b[0m                                 Traceback (most recent call last)",
      "\u001b[1;32m~\\AppData\\Local\\Temp/ipykernel_9604/4084327683.py\u001b[0m in \u001b[0;36m<module>\u001b[1;34m\u001b[0m\n\u001b[0;32m      6\u001b[0m \u001b[0mnum1\u001b[0m\u001b[1;33m=\u001b[0m\u001b[0maddition\u001b[0m\u001b[1;33m(\u001b[0m\u001b[1;36m3\u001b[0m\u001b[1;33m)\u001b[0m\u001b[1;33m\u001b[0m\u001b[1;33m\u001b[0m\u001b[0m\n\u001b[0;32m      7\u001b[0m \u001b[0mnum2\u001b[0m\u001b[1;33m=\u001b[0m\u001b[0maddition\u001b[0m\u001b[1;33m(\u001b[0m\u001b[1;36m4\u001b[0m\u001b[1;33m)\u001b[0m\u001b[1;33m\u001b[0m\u001b[1;33m\u001b[0m\u001b[0m\n\u001b[1;32m----> 8\u001b[1;33m \u001b[0mo\u001b[0m\u001b[1;33m=\u001b[0m\u001b[0mnum1\u001b[0m\u001b[1;33m+\u001b[0m\u001b[0mnum2\u001b[0m\u001b[1;33m\u001b[0m\u001b[1;33m\u001b[0m\u001b[0m\n\u001b[0m\u001b[0;32m      9\u001b[0m \u001b[0mprint\u001b[0m\u001b[1;33m(\u001b[0m\u001b[0mo\u001b[0m\u001b[1;33m)\u001b[0m\u001b[1;33m\u001b[0m\u001b[1;33m\u001b[0m\u001b[0m\n\u001b[0;32m     10\u001b[0m \u001b[1;33m\u001b[0m\u001b[0m\n",
      "\u001b[1;31mTypeError\u001b[0m: unsupported operand type(s) for +: 'addition' and 'addition'"
     ]
    }
   ],
   "source": [
    "#eg: \n",
    "class addition:\n",
    "    def __init__(self,n1):\n",
    "        self.n1=n1\n",
    "        \n",
    "num1=addition(3)\n",
    "num2=addition(4)\n",
    "o=num1+num2\n",
    "print(o)\n",
    "\n",
    "\n",
    "#Here python will give the TypeError because python could not understand, how to add the two objects.\n"
   ]
  },
  {
   "cell_type": "code",
   "execution_count": 16,
   "id": "1cbbff7b",
   "metadata": {},
   "outputs": [
    {
     "name": "stdout",
     "output_type": "stream",
     "text": [
      "7\n"
     ]
    }
   ],
   "source": [
    "#example of object overloading:\n",
    "\n",
    "class addition:\n",
    "    def __init__(self,n1):\n",
    "        self.n1=n1\n",
    "        \n",
    "    def __add__(self,o):\n",
    "        return self.n1+o.n1\n",
    "            \n",
    "num1=addition(3)\n",
    "num2=addition(4)\n",
    "\n",
    "o=num1+num2\n",
    "print(o)"
   ]
  },
  {
   "cell_type": "markdown",
   "id": "f7443c30",
   "metadata": {},
   "source": [
    "- When we use an operator on user-defined data types then compiler automatically understand the data type of the userdefine data and invoke a  a special function or magic function associated with that operator.\n",
    "\n",
    "- we can also define the data type of userdefine data inside the class by __ str __ (), __ int __ () etc"
   ]
  },
  {
   "cell_type": "markdown",
   "id": "2151e3c7",
   "metadata": {},
   "source": [
    "# Q7. When do you consider allowing operator overloading of your classes?\n"
   ]
  },
  {
   "cell_type": "markdown",
   "id": "ebc034b4",
   "metadata": {},
   "source": [
    "When we do operator overloading, we define a special method or magic method  inside class definition. where name of the method begin and end with a double underscore (__). The + operator is overloaded using a special method named __ add __ () .\n",
    "- operator is overloaded using __ sub __ () method.\n"
   ]
  },
  {
   "cell_type": "markdown",
   "id": "2890855e",
   "metadata": {},
   "source": [
    "# Q8. What is the most popular form of operator overloading?\n"
   ]
  },
  {
   "cell_type": "markdown",
   "id": "2da9a04b",
   "metadata": {},
   "source": [
    "There are 2 types of operator overloading in python 1) arithmatic overloading and comparison overloading\n",
    "\n",
    "but the arithmatic operator overloading is the popular form of over."
   ]
  },
  {
   "cell_type": "markdown",
   "id": "ecd664c6",
   "metadata": {},
   "source": [
    "# Q9. What are the two most important concepts to grasp in order to comprehend Python OOP code?"
   ]
  },
  {
   "cell_type": "markdown",
   "id": "89d0995e",
   "metadata": {},
   "source": [
    "Inheritance and Polymorphism are the most important concept for python oop code."
   ]
  },
  {
   "cell_type": "code",
   "execution_count": null,
   "id": "52dcfc82",
   "metadata": {},
   "outputs": [],
   "source": []
  }
 ],
 "metadata": {
  "kernelspec": {
   "display_name": "Python 3 (ipykernel)",
   "language": "python",
   "name": "python3"
  },
  "language_info": {
   "codemirror_mode": {
    "name": "ipython",
    "version": 3
   },
   "file_extension": ".py",
   "mimetype": "text/x-python",
   "name": "python",
   "nbconvert_exporter": "python",
   "pygments_lexer": "ipython3",
   "version": "3.9.7"
  }
 },
 "nbformat": 4,
 "nbformat_minor": 5
}
